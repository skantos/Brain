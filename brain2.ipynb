{
 "cells": [
  {
   "cell_type": "code",
   "execution_count": 1,
   "metadata": {},
   "outputs": [
    {
     "name": "stdout",
     "output_type": "stream",
     "text": [
      "WARNING:tensorflow:From c:\\Users\\nob96\\AppData\\Local\\Programs\\Python\\Python311\\Lib\\site-packages\\keras\\src\\losses.py:2976: The name tf.losses.sparse_softmax_cross_entropy is deprecated. Please use tf.compat.v1.losses.sparse_softmax_cross_entropy instead.\n",
      "\n"
     ]
    }
   ],
   "source": [
    "import tensorflow as tf\n",
    "import pandas as pd\n",
    "import numpy as np\n",
    "import matplotlib.pyplot as plt\n",
    "import seaborn as sns\n",
    "from sklearn.model_selection import train_test_split\n",
    "from sklearn.preprocessing import StandardScaler\n",
    "from sklearn.metrics import accuracy_score, classification_report, confusion_matrix\n",
    "from tensorflow.keras import layers, models\n"
   ]
  },
  {
   "cell_type": "code",
   "execution_count": 2,
   "metadata": {},
   "outputs": [
    {
     "name": "stdout",
     "output_type": "stream",
     "text": [
      "WARNING:tensorflow:From c:\\Users\\nob96\\AppData\\Local\\Programs\\Python\\Python311\\Lib\\site-packages\\keras\\src\\backend.py:1398: The name tf.executing_eagerly_outside_functions is deprecated. Please use tf.compat.v1.executing_eagerly_outside_functions instead.\n",
      "\n",
      "WARNING:tensorflow:From c:\\Users\\nob96\\AppData\\Local\\Programs\\Python\\Python311\\Lib\\site-packages\\keras\\src\\layers\\pooling\\max_pooling2d.py:161: The name tf.nn.max_pool is deprecated. Please use tf.nn.max_pool2d instead.\n",
      "\n"
     ]
    }
   ],
   "source": [
    "model = tf.keras.models.load_model(\"Brain_entrenado.h5\")\n"
   ]
  },
  {
   "cell_type": "code",
   "execution_count": 3,
   "metadata": {},
   "outputs": [
    {
     "name": "stdout",
     "output_type": "stream",
     "text": [
      "1/1 [==============================] - 0s 218ms/step\n",
      "1/1 [==============================] - 0s 27ms/step\n",
      "1/1 [==============================] - 0s 28ms/step\n",
      "1/1 [==============================] - 0s 26ms/step\n",
      "1/1 [==============================] - 0s 26ms/step\n",
      "1/1 [==============================] - 0s 26ms/step\n",
      "1/1 [==============================] - 0s 25ms/step\n",
      "1/1 [==============================] - 0s 25ms/step\n",
      "1/1 [==============================] - 0s 25ms/step\n",
      "1/1 [==============================] - 0s 24ms/step\n",
      "1/1 [==============================] - 0s 25ms/step\n",
      "1/1 [==============================] - 0s 24ms/step\n",
      "1/1 [==============================] - 0s 24ms/step\n"
     ]
    }
   ],
   "source": [
    "import tkinter as tk\n",
    "from tkinter import filedialog\n",
    "from PIL import Image, ImageTk  \n",
    "import tensorflow as tf\n",
    "from tensorflow.keras.preprocessing import image\n",
    "import numpy as np\n",
    "\n",
    "class_names = ['glioma_tumor', 'meningioma_tumor', 'no_tumor', 'pituitary_tumor']  \n",
    "\n",
    "def cargar_imagen(path, img_height=224, img_width=224):\n",
    "    img = image.load_img(path, target_size=(img_height, img_width))\n",
    "    \n",
    "    img_array = image.img_to_array(img)\n",
    "    \n",
    "    img_array = np.expand_dims(img_array, axis=0)\n",
    "    \n",
    "    img_array = img_array / 255.0\n",
    "    \n",
    "    return img_array, img  \n",
    "\n",
    "def seleccionar_imagen():\n",
    "    img_path = filedialog.askopenfilename(title=\"Selecciona una imagen\", filetypes=[(\"Archivos de imagen\", \"*.jpg;*.jpeg;*.png\")])\n",
    "    \n",
    "    if img_path:\n",
    "        img_array, img = cargar_imagen(img_path)\n",
    "        \n",
    "        predictions = model.predict(img_array)\n",
    "        \n",
    "        predicted_class = np.argmax(predictions, axis=1)\n",
    "        \n",
    "        predicted_category = class_names[predicted_class[0]]\n",
    "        \n",
    "        result_label.config(text=f\"La imagen pertenece a la categoría: {predicted_category}\")\n",
    "        \n",
    "        img = img.resize((250, 250))  \n",
    "        img_tk = ImageTk.PhotoImage(img)\n",
    "        image_label.config(image=img_tk)\n",
    "        image_label.image = img_tk  \n",
    "\n",
    "    else:\n",
    "        result_label.config(text=\"No se seleccionó ninguna imagen.\")\n",
    "\n",
    "root = tk.Tk()\n",
    "root.title(\"Clasificador de Imágenes\")\n",
    "\n",
    "select_button = tk.Button(root, text=\"Seleccionar Imagen\", command=seleccionar_imagen)\n",
    "select_button.pack(pady=20)\n",
    "\n",
    "result_label = tk.Label(root, text=\"Esperando predicción...\", font=(\"Arial\", 14))\n",
    "result_label.pack(pady=20)\n",
    "\n",
    "image_label = tk.Label(root)\n",
    "image_label.pack(pady=20)\n",
    "\n",
    "model = tf.keras.models.load_model('Brain_entrenado.h5')\n",
    "\n",
    "root.mainloop()\n"
   ]
  }
 ],
 "metadata": {
  "kernelspec": {
   "display_name": "Python 3",
   "language": "python",
   "name": "python3"
  },
  "language_info": {
   "codemirror_mode": {
    "name": "ipython",
    "version": 3
   },
   "file_extension": ".py",
   "mimetype": "text/x-python",
   "name": "python",
   "nbconvert_exporter": "python",
   "pygments_lexer": "ipython3",
   "version": "3.11.5"
  }
 },
 "nbformat": 4,
 "nbformat_minor": 2
}
